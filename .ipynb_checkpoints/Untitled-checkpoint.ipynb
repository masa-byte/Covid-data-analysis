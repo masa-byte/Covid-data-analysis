{
 "cells": [
  {
   "cell_type": "markdown",
   "id": "19db33df",
   "metadata": {},
   "source": [
    "# Queries\n"
   ]
  },
  {
   "cell_type": "code",
   "execution_count": 6,
   "id": "df2faa7d",
   "metadata": {},
   "outputs": [
    {
     "name": "stdout",
     "output_type": "stream",
     "text": [
      "{'location': 'Afghanistan', 'date': '01-01-21', 'population': 41128772, 'total_cases': '51848', 'new_cases': 0, 'total_deaths': '2158'}\n",
      "{'location': 'Afghanistan', 'date': '01-01-22', 'population': 41128772, 'total_cases': '157902', 'new_cases': 0, 'total_deaths': '7352'}\n",
      "{'location': 'Afghanistan', 'date': '01-01-23', 'population': 41128772, 'total_cases': '207579', 'new_cases': 257, 'total_deaths': '7849'}\n",
      "{'location': 'Afghanistan', 'date': '01-01-24', 'population': 41128772, 'total_cases': '230375', 'new_cases': 0, 'total_deaths': '7973'}\n",
      "{'location': 'Afghanistan', 'date': '01-02-20', 'population': 41128772, 'total_cases': None, 'new_cases': 0, 'total_deaths': None}\n",
      "{'location': 'Afghanistan', 'date': '01-02-21', 'population': 41128772, 'total_cases': '55023', 'new_cases': 0, 'total_deaths': '2400'}\n",
      "{'location': 'Afghanistan', 'date': '01-02-22', 'population': 41128772, 'total_cases': '161666', 'new_cases': 0, 'total_deaths': '7407'}\n",
      "{'location': 'Afghanistan', 'date': '01-02-23', 'population': 41128772, 'total_cases': '208420', 'new_cases': 0, 'total_deaths': '7866'}\n",
      "{'location': 'Afghanistan', 'date': '01-02-24', 'population': 41128772, 'total_cases': '231329', 'new_cases': 0, 'total_deaths': '7982'}\n",
      "{'location': 'Afghanistan', 'date': '01-03-20', 'population': 41128772, 'total_cases': '1', 'new_cases': 1, 'total_deaths': None}\n",
      "{'location': 'Afghanistan', 'date': '01-03-21', 'population': 41128772, 'total_cases': '55714', 'new_cases': 0, 'total_deaths': '2443'}\n",
      "{'location': 'Afghanistan', 'date': '01-03-22', 'population': 41128772, 'total_cases': '173180', 'new_cases': 0, 'total_deaths': '7588'}\n",
      "{'location': 'Afghanistan', 'date': '01-03-23', 'population': 41128772, 'total_cases': '209251', 'new_cases': 0, 'total_deaths': '7878'}\n",
      "{'location': 'Afghanistan', 'date': '01-04-20', 'population': 41128772, 'total_cases': '91', 'new_cases': 0, 'total_deaths': '2'}\n",
      "{'location': 'Afghanistan', 'date': '01-04-21', 'population': 41128772, 'total_cases': '56294', 'new_cases': 0, 'total_deaths': '2470'}\n",
      "{'location': 'Afghanistan', 'date': '01-04-22', 'population': 41128772, 'total_cases': '177474', 'new_cases': 0, 'total_deaths': '7660'}\n",
      "{'location': 'Afghanistan', 'date': '01-04-23', 'population': 41128772, 'total_cases': '210080', 'new_cases': 0, 'total_deaths': '7882'}\n",
      "{'location': 'Afghanistan', 'date': '01-05-20', 'population': 41128772, 'total_cases': '1330', 'new_cases': 0, 'total_deaths': '43'}\n",
      "{'location': 'Afghanistan', 'date': '01-05-21', 'population': 41128772, 'total_cases': '58843', 'new_cases': 0, 'total_deaths': '2582'}\n",
      "{'location': 'Afghanistan', 'date': '01-05-22', 'population': 41128772, 'total_cases': '178879', 'new_cases': 231, 'total_deaths': '7683'}\n"
     ]
    }
   ],
   "source": [
    "from pymongo import MongoClient\n",
    "\n",
    "client = MongoClient(\"mongodb://localhost:27017/\")\n",
    "db = client['covid']\n",
    "collection = db['covid-deaths']\n",
    "\n",
    "query = {}\n",
    "\n",
    "projection = {}\n",
    "\n",
    "projection[\"location\"] = 1\n",
    "projection[\"date\"] = 1\n",
    "projection[\"total_cases\"] = 1\n",
    "projection[\"new_cases\"] = 1\n",
    "projection[\"total_deaths\"] = 1\n",
    "projection[\"population\"] = 1\n",
    "projection[\"_id\"] = 0\n",
    "\n",
    "sort = [ (\"location\", 1), (\"date\", 1) ]\n",
    "\n",
    "cursor = collection.find(query, projection = projection, sort = sort).limit(20)\n",
    "try:\n",
    "    for doc in cursor:\n",
    "        print(doc)\n",
    "finally:\n",
    "    client.close()"
   ]
  },
  {
   "cell_type": "code",
   "execution_count": null,
   "id": "46836062",
   "metadata": {},
   "outputs": [],
   "source": []
  }
 ],
 "metadata": {
  "kernelspec": {
   "display_name": "Python 3 (ipykernel)",
   "language": "python",
   "name": "python3"
  },
  "language_info": {
   "codemirror_mode": {
    "name": "ipython",
    "version": 3
   },
   "file_extension": ".py",
   "mimetype": "text/x-python",
   "name": "python",
   "nbconvert_exporter": "python",
   "pygments_lexer": "ipython3",
   "version": "3.9.12"
  }
 },
 "nbformat": 4,
 "nbformat_minor": 5
}
